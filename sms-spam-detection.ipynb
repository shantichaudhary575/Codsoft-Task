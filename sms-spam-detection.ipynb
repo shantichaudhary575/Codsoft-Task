{
 "cells": [
  {
   "cell_type": "code",
   "execution_count": 1,
   "id": "7779e0a8",
   "metadata": {
    "_cell_guid": "b1076dfc-b9ad-4769-8c92-a6c4dae69d19",
    "_uuid": "8f2839f25d086af736a60e9eeb907d3b93b6e0e5",
    "execution": {
     "iopub.execute_input": "2023-01-27T16:16:52.837820Z",
     "iopub.status.busy": "2023-01-27T16:16:52.837178Z",
     "iopub.status.idle": "2023-01-27T16:16:54.218900Z",
     "shell.execute_reply": "2023-01-27T16:16:54.217851Z"
    },
    "papermill": {
     "duration": 1.392724,
     "end_time": "2023-01-27T16:16:54.221699",
     "exception": false,
     "start_time": "2023-01-27T16:16:52.828975",
     "status": "completed"
    },
    "tags": []
   },
   "outputs": [],
   "source": [
    "import numpy as np \n",
    "import pandas as pd \n",
    "\n",
    "from sklearn.model_selection import train_test_split\n",
    "from sklearn.preprocessing import LabelEncoder\n",
    "\n",
    "from sklearn.linear_model import LogisticRegression\n",
    "from sklearn.svm import SVC\n",
    "from sklearn.neural_network import MLPClassifier\n",
    "\n",
    "\n",
    "from sklearn.metrics import f1_score"
   ]
  },
  {
   "cell_type": "code",
   "execution_count": 2,
   "id": "ef1fa400",
   "metadata": {
    "execution": {
     "iopub.execute_input": "2023-01-27T16:16:54.233696Z",
     "iopub.status.busy": "2023-01-27T16:16:54.233265Z",
     "iopub.status.idle": "2023-01-27T16:16:54.278030Z",
     "shell.execute_reply": "2023-01-27T16:16:54.276669Z"
    },
    "papermill": {
     "duration": 0.05401,
     "end_time": "2023-01-27T16:16:54.281004",
     "exception": false,
     "start_time": "2023-01-27T16:16:54.226994",
     "status": "completed"
    },
    "tags": []
   },
   "outputs": [],
   "source": [
    "data = pd.read_csv('spam.csv',encoding = \"latin-1\")"
   ]
  },
  {
   "cell_type": "code",
   "execution_count": 3,
   "id": "56de3c0c",
   "metadata": {
    "execution": {
     "iopub.execute_input": "2023-01-27T16:16:54.293556Z",
     "iopub.status.busy": "2023-01-27T16:16:54.293124Z",
     "iopub.status.idle": "2023-01-27T16:16:54.317296Z",
     "shell.execute_reply": "2023-01-27T16:16:54.315940Z"
    },
    "papermill": {
     "duration": 0.033895,
     "end_time": "2023-01-27T16:16:54.320456",
     "exception": false,
     "start_time": "2023-01-27T16:16:54.286561",
     "status": "completed"
    },
    "tags": []
   },
   "outputs": [
    {
     "data": {
      "text/html": [
       "<div>\n",
       "<style scoped>\n",
       "    .dataframe tbody tr th:only-of-type {\n",
       "        vertical-align: middle;\n",
       "    }\n",
       "\n",
       "    .dataframe tbody tr th {\n",
       "        vertical-align: top;\n",
       "    }\n",
       "\n",
       "    .dataframe thead th {\n",
       "        text-align: right;\n",
       "    }\n",
       "</style>\n",
       "<table border=\"1\" class=\"dataframe\">\n",
       "  <thead>\n",
       "    <tr style=\"text-align: right;\">\n",
       "      <th></th>\n",
       "      <th>v1</th>\n",
       "      <th>v2</th>\n",
       "      <th>Unnamed: 2</th>\n",
       "      <th>Unnamed: 3</th>\n",
       "      <th>Unnamed: 4</th>\n",
       "    </tr>\n",
       "  </thead>\n",
       "  <tbody>\n",
       "    <tr>\n",
       "      <th>0</th>\n",
       "      <td>ham</td>\n",
       "      <td>Go until jurong point, crazy.. Available only ...</td>\n",
       "      <td>NaN</td>\n",
       "      <td>NaN</td>\n",
       "      <td>NaN</td>\n",
       "    </tr>\n",
       "    <tr>\n",
       "      <th>1</th>\n",
       "      <td>ham</td>\n",
       "      <td>Ok lar... Joking wif u oni...</td>\n",
       "      <td>NaN</td>\n",
       "      <td>NaN</td>\n",
       "      <td>NaN</td>\n",
       "    </tr>\n",
       "    <tr>\n",
       "      <th>2</th>\n",
       "      <td>spam</td>\n",
       "      <td>Free entry in 2 a wkly comp to win FA Cup fina...</td>\n",
       "      <td>NaN</td>\n",
       "      <td>NaN</td>\n",
       "      <td>NaN</td>\n",
       "    </tr>\n",
       "    <tr>\n",
       "      <th>3</th>\n",
       "      <td>ham</td>\n",
       "      <td>U dun say so early hor... U c already then say...</td>\n",
       "      <td>NaN</td>\n",
       "      <td>NaN</td>\n",
       "      <td>NaN</td>\n",
       "    </tr>\n",
       "    <tr>\n",
       "      <th>4</th>\n",
       "      <td>ham</td>\n",
       "      <td>Nah I don't think he goes to usf, he lives aro...</td>\n",
       "      <td>NaN</td>\n",
       "      <td>NaN</td>\n",
       "      <td>NaN</td>\n",
       "    </tr>\n",
       "  </tbody>\n",
       "</table>\n",
       "</div>"
      ],
      "text/plain": [
       "     v1                                                 v2 Unnamed: 2  \\\n",
       "0   ham  Go until jurong point, crazy.. Available only ...        NaN   \n",
       "1   ham                      Ok lar... Joking wif u oni...        NaN   \n",
       "2  spam  Free entry in 2 a wkly comp to win FA Cup fina...        NaN   \n",
       "3   ham  U dun say so early hor... U c already then say...        NaN   \n",
       "4   ham  Nah I don't think he goes to usf, he lives aro...        NaN   \n",
       "\n",
       "  Unnamed: 3 Unnamed: 4  \n",
       "0        NaN        NaN  \n",
       "1        NaN        NaN  \n",
       "2        NaN        NaN  \n",
       "3        NaN        NaN  \n",
       "4        NaN        NaN  "
      ]
     },
     "execution_count": 3,
     "metadata": {},
     "output_type": "execute_result"
    }
   ],
   "source": [
    "data.head()"
   ]
  },
  {
   "cell_type": "code",
   "execution_count": 4,
   "id": "2acb0a8d",
   "metadata": {
    "execution": {
     "iopub.execute_input": "2023-01-27T16:16:54.332960Z",
     "iopub.status.busy": "2023-01-27T16:16:54.332550Z",
     "iopub.status.idle": "2023-01-27T16:16:54.344151Z",
     "shell.execute_reply": "2023-01-27T16:16:54.342981Z"
    },
    "papermill": {
     "duration": 0.020633,
     "end_time": "2023-01-27T16:16:54.346527",
     "exception": false,
     "start_time": "2023-01-27T16:16:54.325894",
     "status": "completed"
    },
    "tags": []
   },
   "outputs": [],
   "source": [
    "data.drop([data.columns[col] for col in range(2,5)],axis=1,inplace=True)"
   ]
  },
  {
   "cell_type": "code",
   "execution_count": 5,
   "id": "c7a64f79",
   "metadata": {
    "execution": {
     "iopub.execute_input": "2023-01-27T16:16:54.359677Z",
     "iopub.status.busy": "2023-01-27T16:16:54.358624Z",
     "iopub.status.idle": "2023-01-27T16:16:54.372459Z",
     "shell.execute_reply": "2023-01-27T16:16:54.371337Z"
    },
    "papermill": {
     "duration": 0.023088,
     "end_time": "2023-01-27T16:16:54.374962",
     "exception": false,
     "start_time": "2023-01-27T16:16:54.351874",
     "status": "completed"
    },
    "tags": []
   },
   "outputs": [
    {
     "data": {
      "text/html": [
       "<div>\n",
       "<style scoped>\n",
       "    .dataframe tbody tr th:only-of-type {\n",
       "        vertical-align: middle;\n",
       "    }\n",
       "\n",
       "    .dataframe tbody tr th {\n",
       "        vertical-align: top;\n",
       "    }\n",
       "\n",
       "    .dataframe thead th {\n",
       "        text-align: right;\n",
       "    }\n",
       "</style>\n",
       "<table border=\"1\" class=\"dataframe\">\n",
       "  <thead>\n",
       "    <tr style=\"text-align: right;\">\n",
       "      <th></th>\n",
       "      <th>v1</th>\n",
       "      <th>v2</th>\n",
       "    </tr>\n",
       "  </thead>\n",
       "  <tbody>\n",
       "    <tr>\n",
       "      <th>0</th>\n",
       "      <td>ham</td>\n",
       "      <td>Go until jurong point, crazy.. Available only ...</td>\n",
       "    </tr>\n",
       "    <tr>\n",
       "      <th>1</th>\n",
       "      <td>ham</td>\n",
       "      <td>Ok lar... Joking wif u oni...</td>\n",
       "    </tr>\n",
       "    <tr>\n",
       "      <th>2</th>\n",
       "      <td>spam</td>\n",
       "      <td>Free entry in 2 a wkly comp to win FA Cup fina...</td>\n",
       "    </tr>\n",
       "    <tr>\n",
       "      <th>3</th>\n",
       "      <td>ham</td>\n",
       "      <td>U dun say so early hor... U c already then say...</td>\n",
       "    </tr>\n",
       "    <tr>\n",
       "      <th>4</th>\n",
       "      <td>ham</td>\n",
       "      <td>Nah I don't think he goes to usf, he lives aro...</td>\n",
       "    </tr>\n",
       "    <tr>\n",
       "      <th>...</th>\n",
       "      <td>...</td>\n",
       "      <td>...</td>\n",
       "    </tr>\n",
       "    <tr>\n",
       "      <th>5567</th>\n",
       "      <td>spam</td>\n",
       "      <td>This is the 2nd time we have tried 2 contact u...</td>\n",
       "    </tr>\n",
       "    <tr>\n",
       "      <th>5568</th>\n",
       "      <td>ham</td>\n",
       "      <td>Will Ì_ b going to esplanade fr home?</td>\n",
       "    </tr>\n",
       "    <tr>\n",
       "      <th>5569</th>\n",
       "      <td>ham</td>\n",
       "      <td>Pity, * was in mood for that. So...any other s...</td>\n",
       "    </tr>\n",
       "    <tr>\n",
       "      <th>5570</th>\n",
       "      <td>ham</td>\n",
       "      <td>The guy did some bitching but I acted like i'd...</td>\n",
       "    </tr>\n",
       "    <tr>\n",
       "      <th>5571</th>\n",
       "      <td>ham</td>\n",
       "      <td>Rofl. Its true to its name</td>\n",
       "    </tr>\n",
       "  </tbody>\n",
       "</table>\n",
       "<p>5572 rows × 2 columns</p>\n",
       "</div>"
      ],
      "text/plain": [
       "        v1                                                 v2\n",
       "0      ham  Go until jurong point, crazy.. Available only ...\n",
       "1      ham                      Ok lar... Joking wif u oni...\n",
       "2     spam  Free entry in 2 a wkly comp to win FA Cup fina...\n",
       "3      ham  U dun say so early hor... U c already then say...\n",
       "4      ham  Nah I don't think he goes to usf, he lives aro...\n",
       "...    ...                                                ...\n",
       "5567  spam  This is the 2nd time we have tried 2 contact u...\n",
       "5568   ham              Will Ì_ b going to esplanade fr home?\n",
       "5569   ham  Pity, * was in mood for that. So...any other s...\n",
       "5570   ham  The guy did some bitching but I acted like i'd...\n",
       "5571   ham                         Rofl. Its true to its name\n",
       "\n",
       "[5572 rows x 2 columns]"
      ]
     },
     "execution_count": 5,
     "metadata": {},
     "output_type": "execute_result"
    }
   ],
   "source": [
    "data"
   ]
  },
  {
   "cell_type": "code",
   "execution_count": 6,
   "id": "02e413a7",
   "metadata": {
    "execution": {
     "iopub.execute_input": "2023-01-27T16:16:54.388196Z",
     "iopub.status.busy": "2023-01-27T16:16:54.387812Z",
     "iopub.status.idle": "2023-01-27T16:16:54.806629Z",
     "shell.execute_reply": "2023-01-27T16:16:54.805626Z"
    },
    "papermill": {
     "duration": 0.428693,
     "end_time": "2023-01-27T16:16:54.809357",
     "exception": false,
     "start_time": "2023-01-27T16:16:54.380664",
     "status": "completed"
    },
    "tags": []
   },
   "outputs": [
    {
     "data": {
      "text/plain": [
       "<Axes: xlabel='v1', ylabel='count'>"
      ]
     },
     "execution_count": 6,
     "metadata": {},
     "output_type": "execute_result"
    },
    {
     "data": {
      "image/png": "[encoded data removed]",
      "text/plain": [
       "<Figure size 1000x1000 with 1 Axes>"
      ]
     },
     "metadata": {},
     "output_type": "display_data"
    }
   ],
   "source": [
    "import matplotlib.pyplot as plt\n",
    "import seaborn as sns\n",
    "\n",
    "plt.figure(figsize = (10,10))\n",
    "sns.countplot(data = data, x= 'v1' )"
   ]
  },
  {
   "cell_type": "code",
   "execution_count": 7,
   "id": "a7fa345b",
   "metadata": {
    "execution": {
     "iopub.execute_input": "2023-01-27T16:16:54.823606Z",
     "iopub.status.busy": "2023-01-27T16:16:54.823197Z",
     "iopub.status.idle": "2023-01-27T16:16:54.830450Z",
     "shell.execute_reply": "2023-01-27T16:16:54.829229Z"
    },
    "papermill": {
     "duration": 0.016847,
     "end_time": "2023-01-27T16:16:54.832647",
     "exception": false,
     "start_time": "2023-01-27T16:16:54.815800",
     "status": "completed"
    },
    "tags": []
   },
   "outputs": [],
   "source": [
    "encoder = LabelEncoder()\n",
    "data['v1'] = encoder.fit_transform(data[\"v1\"])"
   ]
  },
  {
   "cell_type": "code",
   "execution_count": 8,
   "id": "c6df160e",
   "metadata": {
    "execution": {
     "iopub.execute_input": "2023-01-27T16:16:54.846707Z",
     "iopub.status.busy": "2023-01-27T16:16:54.845958Z",
     "iopub.status.idle": "2023-01-27T16:16:54.862362Z",
     "shell.execute_reply": "2023-01-27T16:16:54.861271Z"
    },
    "papermill": {
     "duration": 0.026328,
     "end_time": "2023-01-27T16:16:54.864997",
     "exception": false,
     "start_time": "2023-01-27T16:16:54.838669",
     "status": "completed"
    },
    "tags": []
   },
   "outputs": [],
   "source": [
    "from sklearn.feature_extraction.text import TfidfVectorizer\n",
    "\n",
    "vect=TfidfVectorizer(min_df=1,stop_words='english',lowercase=True)"
   ]
  },
  {
   "cell_type": "code",
   "execution_count": 9,
   "id": "6e9187a2",
   "metadata": {
    "execution": {
     "iopub.execute_input": "2023-01-27T16:16:54.879185Z",
     "iopub.status.busy": "2023-01-27T16:16:54.878499Z",
     "iopub.status.idle": "2023-01-27T16:16:54.883077Z",
     "shell.execute_reply": "2023-01-27T16:16:54.882296Z"
    },
    "papermill": {
     "duration": 0.014017,
     "end_time": "2023-01-27T16:16:54.885139",
     "exception": false,
     "start_time": "2023-01-27T16:16:54.871122",
     "status": "completed"
    },
    "tags": []
   },
   "outputs": [],
   "source": [
    "y = data['v1']"
   ]
  },
  {
   "cell_type": "code",
   "execution_count": 10,
   "id": "0ec0c5cf",
   "metadata": {
    "execution": {
     "iopub.execute_input": "2023-01-27T16:16:54.899045Z",
     "iopub.status.busy": "2023-01-27T16:16:54.898301Z",
     "iopub.status.idle": "2023-01-27T16:16:54.904288Z",
     "shell.execute_reply": "2023-01-27T16:16:54.903174Z"
    },
    "papermill": {
     "duration": 0.016077,
     "end_time": "2023-01-27T16:16:54.907176",
     "exception": false,
     "start_time": "2023-01-27T16:16:54.891099",
     "status": "completed"
    },
    "tags": []
   },
   "outputs": [],
   "source": [
    "data = data.drop('v1',axis = 1)"
   ]
  },
  {
   "cell_type": "code",
   "execution_count": 11,
   "id": "385a6607",
   "metadata": {
    "execution": {
     "iopub.execute_input": "2023-01-27T16:16:54.921443Z",
     "iopub.status.busy": "2023-01-27T16:16:54.920996Z",
     "iopub.status.idle": "2023-01-27T16:16:54.928195Z",
     "shell.execute_reply": "2023-01-27T16:16:54.927316Z"
    },
    "papermill": {
     "duration": 0.017021,
     "end_time": "2023-01-27T16:16:54.930504",
     "exception": false,
     "start_time": "2023-01-27T16:16:54.913483",
     "status": "completed"
    },
    "tags": []
   },
   "outputs": [],
   "source": [
    "X_train, X_test, y_train, y_test = train_test_split(data, y, train_size = 0.8)"
   ]
  },
  {
   "cell_type": "code",
   "execution_count": 12,
   "id": "1160ec7b",
   "metadata": {
    "execution": {
     "iopub.execute_input": "2023-01-27T16:16:54.944361Z",
     "iopub.status.busy": "2023-01-27T16:16:54.943934Z",
     "iopub.status.idle": "2023-01-27T16:16:55.081007Z",
     "shell.execute_reply": "2023-01-27T16:16:55.079678Z"
    },
    "papermill": {
     "duration": 0.148664,
     "end_time": "2023-01-27T16:16:55.085198",
     "exception": false,
     "start_time": "2023-01-27T16:16:54.936534",
     "status": "completed"
    },
    "tags": []
   },
   "outputs": [],
   "source": [
    "X_tr_f = vect.fit_transform(X_train['v2'])\n",
    "X_te_f = vect.transform(X_test['v2'])"
   ]
  },
  {
   "cell_type": "code",
   "execution_count": 13,
   "id": "bf719f42",
   "metadata": {
    "execution": {
     "iopub.execute_input": "2023-01-27T16:16:55.101909Z",
     "iopub.status.busy": "2023-01-27T16:16:55.100630Z",
     "iopub.status.idle": "2023-01-27T16:16:55.109592Z",
     "shell.execute_reply": "2023-01-27T16:16:55.108516Z"
    },
    "papermill": {
     "duration": 0.020433,
     "end_time": "2023-01-27T16:16:55.112033",
     "exception": false,
     "start_time": "2023-01-27T16:16:55.091600",
     "status": "completed"
    },
    "tags": []
   },
   "outputs": [
    {
     "name": "stdout",
     "output_type": "stream",
     "text": [
      "  (0, 6388)\t0.4663863013511163\n",
      "  (0, 4444)\t0.5454745649171477\n",
      "  (0, 5991)\t0.45440970579540313\n",
      "  (0, 5631)\t0.34046478531419916\n",
      "  (0, 3688)\t0.24252717485058206\n",
      "  (0, 2216)\t0.3220519145096961\n",
      "  (1, 1388)\t0.32986440756180613\n",
      "  (1, 4984)\t0.23420262237470063\n",
      "  (1, 3588)\t0.32986440756180613\n",
      "  (1, 1749)\t0.1874092319735606\n",
      "  (1, 3922)\t0.22368734093010129\n",
      "  (1, 3800)\t0.2511057133063506\n",
      "  (1, 163)\t0.32986440756180613\n",
      "  (1, 3112)\t0.217360179856132\n",
      "  (1, 5146)\t0.198599917136047\n",
      "  (1, 628)\t0.24265416784052563\n",
      "  (1, 7189)\t0.1906247921139224\n",
      "  (1, 5832)\t0.22485281522119882\n",
      "  (1, 2350)\t0.21640126975537383\n",
      "  (1, 6597)\t0.24459689756341108\n",
      "  (1, 1907)\t0.20574279371345378\n",
      "  (1, 6715)\t0.21935405735974997\n",
      "  (1, 6846)\t0.20232832759711752\n",
      "  (2, 6558)\t0.2469650710292453\n",
      "  (2, 3865)\t0.5041171372355157\n",
      "  :\t:\n",
      "  (4452, 3236)\t0.41181145606465\n",
      "  (4452, 6656)\t0.3242340258328922\n",
      "  (4452, 2375)\t0.37620264727805647\n",
      "  (4452, 2304)\t0.3156520145016412\n",
      "  (4452, 6992)\t0.2810407642793465\n",
      "  (4452, 3760)\t0.21135677258869046\n",
      "  (4453, 4548)\t0.45795212797612794\n",
      "  (4453, 944)\t0.4925847682764348\n",
      "  (4453, 3826)\t0.33460346903145644\n",
      "  (4453, 3815)\t0.4132272104230075\n",
      "  (4453, 3687)\t0.4268809291562778\n",
      "  (4453, 3959)\t0.28757009222969415\n",
      "  (4454, 1406)\t0.5902725047558793\n",
      "  (4454, 6859)\t0.4171282607460651\n",
      "  (4454, 3144)\t0.5902725047558793\n",
      "  (4454, 2117)\t0.35938941880000225\n",
      "  (4455, 7136)\t0.44620677161447236\n",
      "  (4455, 2458)\t0.44620677161447236\n",
      "  (4455, 6785)\t0.44620677161447236\n",
      "  (4455, 5396)\t0.4106945410386273\n",
      "  (4455, 6457)\t0.33363566405511724\n",
      "  (4455, 3566)\t0.35030813368767605\n",
      "  (4456, 4641)\t0.663309391161604\n",
      "  (4456, 3261)\t0.5232822351996579\n",
      "  (4456, 4379)\t0.5349732272939198\n"
     ]
    }
   ],
   "source": [
    "print(X_tr_f)"
   ]
  },
  {
   "cell_type": "code",
   "execution_count": 14,
   "id": "7ebb4654",
   "metadata": {
    "execution": {
     "iopub.execute_input": "2023-01-27T16:16:55.125889Z",
     "iopub.status.busy": "2023-01-27T16:16:55.125071Z",
     "iopub.status.idle": "2023-01-27T16:16:55.212471Z",
     "shell.execute_reply": "2023-01-27T16:16:55.211373Z"
    },
    "papermill": {
     "duration": 0.097044,
     "end_time": "2023-01-27T16:16:55.215053",
     "exception": false,
     "start_time": "2023-01-27T16:16:55.118009",
     "status": "completed"
    },
    "tags": []
   },
   "outputs": [
    {
     "data": {
      "text/html": [
       "<style>#sk-container-id-1 {color: black;background-color: white;}#sk-container-id-1 pre{padding: 0;}#sk-container-id-1 div.sk-toggleable {background-color: white;}#sk-container-id-1 label.sk-toggleable__label {cursor: pointer;display: block;width: 100%;margin-bottom: 0;padding: 0.3em;box-sizing: border-box;text-align: center;}#sk-container-id-1 label.sk-toggleable__label-arrow:before {content: \"▸\";float: left;margin-right: 0.25em;color: #696969;}#sk-container-id-1 label.sk-toggleable__label-arrow:hover:before {color: black;}#sk-container-id-1 div.sk-estimator:hover label.sk-toggleable__label-arrow:before {color: black;}#sk-container-id-1 div.sk-toggleable__content {max-height: 0;max-width: 0;overflow: hidden;text-align: left;background-color: #f0f8ff;}#sk-container-id-1 div.sk-toggleable__content pre {margin: 0.2em;color: black;border-radius: 0.25em;background-color: #f0f8ff;}#sk-container-id-1 input.sk-toggleable__control:checked~div.sk-toggleable__content {max-height: 200px;max-width: 100%;overflow: auto;}#sk-container-id-1 input.sk-toggleable__control:checked~label.sk-toggleable__label-arrow:before {content: \"▾\";}#sk-container-id-1 div.sk-estimator input.sk-toggleable__control:checked~label.sk-toggleable__label {background-color: #d4ebff;}#sk-container-id-1 div.sk-label input.sk-toggleable__control:checked~label.sk-toggleable__label {background-color: #d4ebff;}#sk-container-id-1 input.sk-hidden--visually {border: 0;clip: rect(1px 1px 1px 1px);clip: rect(1px, 1px, 1px, 1px);height: 1px;margin: -1px;overflow: hidden;padding: 0;position: absolute;width: 1px;}#sk-container-id-1 div.sk-estimator {font-family: monospace;background-color: #f0f8ff;border: 1px dotted black;border-radius: 0.25em;box-sizing: border-box;margin-bottom: 0.5em;}#sk-container-id-1 div.sk-estimator:hover {background-color: #d4ebff;}#sk-container-id-1 div.sk-parallel-item::after {content: \"\";width: 100%;border-bottom: 1px solid gray;flex-grow: 1;}#sk-container-id-1 div.sk-label:hover label.sk-toggleable__label {background-color: #d4ebff;}#sk-container-id-1 div.sk-serial::before {content: \"\";position: absolute;border-left: 1px solid gray;box-sizing: border-box;top: 0;bottom: 0;left: 50%;z-index: 0;}#sk-container-id-1 div.sk-serial {display: flex;flex-direction: column;align-items: center;background-color: white;padding-right: 0.2em;padding-left: 0.2em;position: relative;}#sk-container-id-1 div.sk-item {position: relative;z-index: 1;}#sk-container-id-1 div.sk-parallel {display: flex;align-items: stretch;justify-content: center;background-color: white;position: relative;}#sk-container-id-1 div.sk-item::before, #sk-container-id-1 div.sk-parallel-item::before {content: \"\";position: absolute;border-left: 1px solid gray;box-sizing: border-box;top: 0;bottom: 0;left: 50%;z-index: -1;}#sk-container-id-1 div.sk-parallel-item {display: flex;flex-direction: column;z-index: 1;position: relative;background-color: white;}#sk-container-id-1 div.sk-parallel-item:first-child::after {align-self: flex-end;width: 50%;}#sk-container-id-1 div.sk-parallel-item:last-child::after {align-self: flex-start;width: 50%;}#sk-container-id-1 div.sk-parallel-item:only-child::after {width: 0;}#sk-container-id-1 div.sk-dashed-wrapped {border: 1px dashed gray;margin: 0 0.4em 0.5em 0.4em;box-sizing: border-box;padding-bottom: 0.4em;background-color: white;}#sk-container-id-1 div.sk-label label {font-family: monospace;font-weight: bold;display: inline-block;line-height: 1.2em;}#sk-container-id-1 div.sk-label-container {text-align: center;}#sk-container-id-1 div.sk-container {/* jupyter's `normalize.less` sets `[hidden] { display: none; }` but bootstrap.min.css set `[hidden] { display: none !important; }` so we also need the `!important` here to be able to override the default hidden behavior on the sphinx rendered scikit-learn.org. See: https://github.com/scikit-learn/scikit-learn/issues/21755 */display: inline-block !important;position: relative;}#sk-container-id-1 div.sk-text-repr-fallback {display: none;}</style><div id=\"sk-container-id-1\" class=\"sk-top-container\"><div class=\"sk-text-repr-fallback\"><pre>LogisticRegression()</pre><b>In a Jupyter environment, please rerun this cell to show the HTML representation or trust the notebook. <br />On GitHub, the HTML representation is unable to render, please try loading this page with nbviewer.org.</b></div><div class=\"sk-container\" hidden><div class=\"sk-item\"><div class=\"sk-estimator sk-toggleable\"><input class=\"sk-toggleable__control sk-hidden--visually\" id=\"sk-estimator-id-1\" type=\"checkbox\" checked><label for=\"sk-estimator-id-1\" class=\"sk-toggleable__label sk-toggleable__label-arrow\">LogisticRegression</label><div class=\"sk-toggleable__content\"><pre>LogisticRegression()</pre></div></div></div></div></div>"
      ],
      "text/plain": [
       "LogisticRegression()"
      ]
     },
     "execution_count": 14,
     "metadata": {},
     "output_type": "execute_result"
    }
   ],
   "source": [
    "Log = LogisticRegression()\n",
    "Log.fit(X_tr_f,y_train)"
   ]
  },
  {
   "cell_type": "code",
   "execution_count": 15,
   "id": "4fd811e5",
   "metadata": {
    "execution": {
     "iopub.execute_input": "2023-01-27T16:16:55.228870Z",
     "iopub.status.busy": "2023-01-27T16:16:55.228452Z",
     "iopub.status.idle": "2023-01-27T16:16:56.933894Z",
     "shell.execute_reply": "2023-01-27T16:16:56.933054Z"
    },
    "papermill": {
     "duration": 1.71498,
     "end_time": "2023-01-27T16:16:56.936093",
     "exception": false,
     "start_time": "2023-01-27T16:16:55.221113",
     "status": "completed"
    },
    "tags": []
   },
   "outputs": [
    {
     "data": {
      "text/html": [
       "<style>#sk-container-id-2 {color: black;background-color: white;}#sk-container-id-2 pre{padding: 0;}#sk-container-id-2 div.sk-toggleable {background-color: white;}#sk-container-id-2 label.sk-toggleable__label {cursor: pointer;display: block;width: 100%;margin-bottom: 0;padding: 0.3em;box-sizing: border-box;text-align: center;}#sk-container-id-2 label.sk-toggleable__label-arrow:before {content: \"▸\";float: left;margin-right: 0.25em;color: #696969;}#sk-container-id-2 label.sk-toggleable__label-arrow:hover:before {color: black;}#sk-container-id-2 div.sk-estimator:hover label.sk-toggleable__label-arrow:before {color: black;}#sk-container-id-2 div.sk-toggleable__content {max-height: 0;max-width: 0;overflow: hidden;text-align: left;background-color: #f0f8ff;}#sk-container-id-2 div.sk-toggleable__content pre {margin: 0.2em;color: black;border-radius: 0.25em;background-color: #f0f8ff;}#sk-container-id-2 input.sk-toggleable__control:checked~div.sk-toggleable__content {max-height: 200px;max-width: 100%;overflow: auto;}#sk-container-id-2 input.sk-toggleable__control:checked~label.sk-toggleable__label-arrow:before {content: \"▾\";}#sk-container-id-2 div.sk-estimator input.sk-toggleable__control:checked~label.sk-toggleable__label {background-color: #d4ebff;}#sk-container-id-2 div.sk-label input.sk-toggleable__control:checked~label.sk-toggleable__label {background-color: #d4ebff;}#sk-container-id-2 input.sk-hidden--visually {border: 0;clip: rect(1px 1px 1px 1px);clip: rect(1px, 1px, 1px, 1px);height: 1px;margin: -1px;overflow: hidden;padding: 0;position: absolute;width: 1px;}#sk-container-id-2 div.sk-estimator {font-family: monospace;background-color: #f0f8ff;border: 1px dotted black;border-radius: 0.25em;box-sizing: border-box;margin-bottom: 0.5em;}#sk-container-id-2 div.sk-estimator:hover {background-color: #d4ebff;}#sk-container-id-2 div.sk-parallel-item::after {content: \"\";width: 100%;border-bottom: 1px solid gray;flex-grow: 1;}#sk-container-id-2 div.sk-label:hover label.sk-toggleable__label {background-color: #d4ebff;}#sk-container-id-2 div.sk-serial::before {content: \"\";position: absolute;border-left: 1px solid gray;box-sizing: border-box;top: 0;bottom: 0;left: 50%;z-index: 0;}#sk-container-id-2 div.sk-serial {display: flex;flex-direction: column;align-items: center;background-color: white;padding-right: 0.2em;padding-left: 0.2em;position: relative;}#sk-container-id-2 div.sk-item {position: relative;z-index: 1;}#sk-container-id-2 div.sk-parallel {display: flex;align-items: stretch;justify-content: center;background-color: white;position: relative;}#sk-container-id-2 div.sk-item::before, #sk-container-id-2 div.sk-parallel-item::before {content: \"\";position: absolute;border-left: 1px solid gray;box-sizing: border-box;top: 0;bottom: 0;left: 50%;z-index: -1;}#sk-container-id-2 div.sk-parallel-item {display: flex;flex-direction: column;z-index: 1;position: relative;background-color: white;}#sk-container-id-2 div.sk-parallel-item:first-child::after {align-self: flex-end;width: 50%;}#sk-container-id-2 div.sk-parallel-item:last-child::after {align-self: flex-start;width: 50%;}#sk-container-id-2 div.sk-parallel-item:only-child::after {width: 0;}#sk-container-id-2 div.sk-dashed-wrapped {border: 1px dashed gray;margin: 0 0.4em 0.5em 0.4em;box-sizing: border-box;padding-bottom: 0.4em;background-color: white;}#sk-container-id-2 div.sk-label label {font-family: monospace;font-weight: bold;display: inline-block;line-height: 1.2em;}#sk-container-id-2 div.sk-label-container {text-align: center;}#sk-container-id-2 div.sk-container {/* jupyter's `normalize.less` sets `[hidden] { display: none; }` but bootstrap.min.css set `[hidden] { display: none !important; }` so we also need the `!important` here to be able to override the default hidden behavior on the sphinx rendered scikit-learn.org. See: https://github.com/scikit-learn/scikit-learn/issues/21755 */display: inline-block !important;position: relative;}#sk-container-id-2 div.sk-text-repr-fallback {display: none;}</style><div id=\"sk-container-id-2\" class=\"sk-top-container\"><div class=\"sk-text-repr-fallback\"><pre>SVC()</pre><b>In a Jupyter environment, please rerun this cell to show the HTML representation or trust the notebook. <br />On GitHub, the HTML representation is unable to render, please try loading this page with nbviewer.org.</b></div><div class=\"sk-container\" hidden><div class=\"sk-item\"><div class=\"sk-estimator sk-toggleable\"><input class=\"sk-toggleable__control sk-hidden--visually\" id=\"sk-estimator-id-2\" type=\"checkbox\" checked><label for=\"sk-estimator-id-2\" class=\"sk-toggleable__label sk-toggleable__label-arrow\">SVC</label><div class=\"sk-toggleable__content\"><pre>SVC()</pre></div></div></div></div></div>"
      ],
      "text/plain": [
       "SVC()"
      ]
     },
     "execution_count": 15,
     "metadata": {},
     "output_type": "execute_result"
    }
   ],
   "source": [
    "sv = SVC()\n",
    "sv.fit(X_tr_f,y_train)"
   ]
  },
  {
   "cell_type": "code",
   "execution_count": 16,
   "id": "8a340a3c",
   "metadata": {
    "execution": {
     "iopub.execute_input": "2023-01-27T16:16:56.951938Z",
     "iopub.status.busy": "2023-01-27T16:16:56.951098Z",
     "iopub.status.idle": "2023-01-27T16:17:21.569220Z",
     "shell.execute_reply": "2023-01-27T16:17:21.567607Z"
    },
    "papermill": {
     "duration": 24.630696,
     "end_time": "2023-01-27T16:17:21.574219",
     "exception": false,
     "start_time": "2023-01-27T16:16:56.943523",
     "status": "completed"
    },
    "tags": []
   },
   "outputs": [
    {
     "data": {
      "text/html": [
       "<style>#sk-container-id-3 {color: black;background-color: white;}#sk-container-id-3 pre{padding: 0;}#sk-container-id-3 div.sk-toggleable {background-color: white;}#sk-container-id-3 label.sk-toggleable__label {cursor: pointer;display: block;width: 100%;margin-bottom: 0;padding: 0.3em;box-sizing: border-box;text-align: center;}#sk-container-id-3 label.sk-toggleable__label-arrow:before {content: \"▸\";float: left;margin-right: 0.25em;color: #696969;}#sk-container-id-3 label.sk-toggleable__label-arrow:hover:before {color: black;}#sk-container-id-3 div.sk-estimator:hover label.sk-toggleable__label-arrow:before {color: black;}#sk-container-id-3 div.sk-toggleable__content {max-height: 0;max-width: 0;overflow: hidden;text-align: left;background-color: #f0f8ff;}#sk-container-id-3 div.sk-toggleable__content pre {margin: 0.2em;color: black;border-radius: 0.25em;background-color: #f0f8ff;}#sk-container-id-3 input.sk-toggleable__control:checked~div.sk-toggleable__content {max-height: 200px;max-width: 100%;overflow: auto;}#sk-container-id-3 input.sk-toggleable__control:checked~label.sk-toggleable__label-arrow:before {content: \"▾\";}#sk-container-id-3 div.sk-estimator input.sk-toggleable__control:checked~label.sk-toggleable__label {background-color: #d4ebff;}#sk-container-id-3 div.sk-label input.sk-toggleable__control:checked~label.sk-toggleable__label {background-color: #d4ebff;}#sk-container-id-3 input.sk-hidden--visually {border: 0;clip: rect(1px 1px 1px 1px);clip: rect(1px, 1px, 1px, 1px);height: 1px;margin: -1px;overflow: hidden;padding: 0;position: absolute;width: 1px;}#sk-container-id-3 div.sk-estimator {font-family: monospace;background-color: #f0f8ff;border: 1px dotted black;border-radius: 0.25em;box-sizing: border-box;margin-bottom: 0.5em;}#sk-container-id-3 div.sk-estimator:hover {background-color: #d4ebff;}#sk-container-id-3 div.sk-parallel-item::after {content: \"\";width: 100%;border-bottom: 1px solid gray;flex-grow: 1;}#sk-container-id-3 div.sk-label:hover label.sk-toggleable__label {background-color: #d4ebff;}#sk-container-id-3 div.sk-serial::before {content: \"\";position: absolute;border-left: 1px solid gray;box-sizing: border-box;top: 0;bottom: 0;left: 50%;z-index: 0;}#sk-container-id-3 div.sk-serial {display: flex;flex-direction: column;align-items: center;background-color: white;padding-right: 0.2em;padding-left: 0.2em;position: relative;}#sk-container-id-3 div.sk-item {position: relative;z-index: 1;}#sk-container-id-3 div.sk-parallel {display: flex;align-items: stretch;justify-content: center;background-color: white;position: relative;}#sk-container-id-3 div.sk-item::before, #sk-container-id-3 div.sk-parallel-item::before {content: \"\";position: absolute;border-left: 1px solid gray;box-sizing: border-box;top: 0;bottom: 0;left: 50%;z-index: -1;}#sk-container-id-3 div.sk-parallel-item {display: flex;flex-direction: column;z-index: 1;position: relative;background-color: white;}#sk-container-id-3 div.sk-parallel-item:first-child::after {align-self: flex-end;width: 50%;}#sk-container-id-3 div.sk-parallel-item:last-child::after {align-self: flex-start;width: 50%;}#sk-container-id-3 div.sk-parallel-item:only-child::after {width: 0;}#sk-container-id-3 div.sk-dashed-wrapped {border: 1px dashed gray;margin: 0 0.4em 0.5em 0.4em;box-sizing: border-box;padding-bottom: 0.4em;background-color: white;}#sk-container-id-3 div.sk-label label {font-family: monospace;font-weight: bold;display: inline-block;line-height: 1.2em;}#sk-container-id-3 div.sk-label-container {text-align: center;}#sk-container-id-3 div.sk-container {/* jupyter's `normalize.less` sets `[hidden] { display: none; }` but bootstrap.min.css set `[hidden] { display: none !important; }` so we also need the `!important` here to be able to override the default hidden behavior on the sphinx rendered scikit-learn.org. See: https://github.com/scikit-learn/scikit-learn/issues/21755 */display: inline-block !important;position: relative;}#sk-container-id-3 div.sk-text-repr-fallback {display: none;}</style><div id=\"sk-container-id-3\" class=\"sk-top-container\"><div class=\"sk-text-repr-fallback\"><pre>MLPClassifier(hidden_layer_sizes=(128, 128))</pre><b>In a Jupyter environment, please rerun this cell to show the HTML representation or trust the notebook. <br />On GitHub, the HTML representation is unable to render, please try loading this page with nbviewer.org.</b></div><div class=\"sk-container\" hidden><div class=\"sk-item\"><div class=\"sk-estimator sk-toggleable\"><input class=\"sk-toggleable__control sk-hidden--visually\" id=\"sk-estimator-id-3\" type=\"checkbox\" checked><label for=\"sk-estimator-id-3\" class=\"sk-toggleable__label sk-toggleable__label-arrow\">MLPClassifier</label><div class=\"sk-toggleable__content\"><pre>MLPClassifier(hidden_layer_sizes=(128, 128))</pre></div></div></div></div></div>"
      ],
      "text/plain": [
       "MLPClassifier(hidden_layer_sizes=(128, 128))"
      ]
     },
     "execution_count": 16,
     "metadata": {},
     "output_type": "execute_result"
    }
   ],
   "source": [
    "nn = MLPClassifier(hidden_layer_sizes=(128,128))\n",
    "nn.fit(X_tr_f,y_train)"
   ]
  },
  {
   "cell_type": "code",
   "execution_count": 17,
   "id": "8215c14a",
   "metadata": {
    "execution": {
     "iopub.execute_input": "2023-01-27T16:17:21.609702Z",
     "iopub.status.busy": "2023-01-27T16:17:21.608741Z",
     "iopub.status.idle": "2023-01-27T16:17:21.864371Z",
     "shell.execute_reply": "2023-01-27T16:17:21.862568Z"
    },
    "papermill": {
     "duration": 0.278704,
     "end_time": "2023-01-27T16:17:21.869345",
     "exception": false,
     "start_time": "2023-01-27T16:17:21.590641",
     "status": "completed"
    },
    "tags": []
   },
   "outputs": [],
   "source": [
    "log_pre = Log.predict(X_te_f)\n",
    "sv_pre = sv.predict(X_te_f)\n",
    "nn_pre = nn.predict(X_te_f)"
   ]
  },
  {
   "cell_type": "code",
   "execution_count": 18,
   "id": "ffa68cf7",
   "metadata": {
    "execution": {
     "iopub.execute_input": "2023-01-27T16:17:21.904444Z",
     "iopub.status.busy": "2023-01-27T16:17:21.903515Z",
     "iopub.status.idle": "2023-01-27T16:17:22.194838Z",
     "shell.execute_reply": "2023-01-27T16:17:22.193100Z"
    },
    "papermill": {
     "duration": 0.313184,
     "end_time": "2023-01-27T16:17:22.199186",
     "exception": false,
     "start_time": "2023-01-27T16:17:21.886002",
     "status": "completed"
    },
    "tags": []
   },
   "outputs": [
    {
     "name": "stdout",
     "output_type": "stream",
     "text": [
      "accuracy of Logistic Regression : 0.9560538116591928 \n",
      "accuracy of SVM : 0.9739910313901345 \n",
      "accuracy of Neural Network : 0.9802690582959641 \n"
     ]
    }
   ],
   "source": [
    "print(f'accuracy of Logistic Regression : {Log.score(X_te_f,y_test)} ')\n",
    "print(f'accuracy of SVM : {sv.score(X_te_f,y_test)} ')\n",
    "print(f'accuracy of Neural Network : {nn.score(X_te_f,y_test)} ')"
   ]
  },
  {
   "cell_type": "code",
   "execution_count": 19,
   "id": "06f4661d",
   "metadata": {
    "execution": {
     "iopub.execute_input": "2023-01-27T16:17:22.234352Z",
     "iopub.status.busy": "2023-01-27T16:17:22.233622Z",
     "iopub.status.idle": "2023-01-27T16:17:22.252609Z",
     "shell.execute_reply": "2023-01-27T16:17:22.250959Z"
    },
    "papermill": {
     "duration": 0.04143,
     "end_time": "2023-01-27T16:17:22.256769",
     "exception": false,
     "start_time": "2023-01-27T16:17:22.215339",
     "status": "completed"
    },
    "tags": []
   },
   "outputs": [
    {
     "name": "stdout",
     "output_type": "stream",
     "text": [
      "F1 score of Logistic Regression : 0.8256227758007119 \n",
      "F1 score of SVM : 0.903010033444816 \n",
      "F1 score of Neural Network : 0.9281045751633986 \n"
     ]
    }
   ],
   "source": [
    "print(f'F1 score of Logistic Regression : {f1_score(y_test,log_pre)} ')\n",
    "print(f'F1 score of SVM : {f1_score(y_test,sv_pre)} ')\n",
    "print(f'F1 score of Neural Network : {f1_score(y_test,nn_pre)} ')"
   ]
  }
 ],
 "metadata": {
  "kernelspec": {
   "display_name": "Python 3 (ipykernel)",
   "language": "python",
   "name": "python3"
  },
  "language_info": {
   "codemirror_mode": {
    "name": "ipython",
    "version": 3
   },
   "file_extension": ".py",
   "mimetype": "text/x-python",
   "name": "python",
   "nbconvert_exporter": "python",
   "pygments_lexer": "ipython3",
   "version": "3.10.9"
  },
  "papermill": {
   "default_parameters": {},
   "duration": 38.956562,
   "end_time": "2023-01-27T16:17:23.006721",
   "environment_variables": {},
   "exception": null,
   "input_path": "__notebook__.ipynb",
   "output_path": "__notebook__.ipynb",
   "parameters": {},
   "start_time": "2023-01-27T16:16:44.050159",
   "version": "2.3.4"
  }
 },
 "nbformat": 4,
 "nbformat_minor": 5
}
